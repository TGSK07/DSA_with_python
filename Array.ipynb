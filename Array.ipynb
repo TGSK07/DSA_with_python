{
 "cells": [
  {
   "cell_type": "code",
   "execution_count": 1,
   "id": "881cb695-cb2a-4123-9647-167c1b05fd6a",
   "metadata": {},
   "outputs": [],
   "source": [
    "import ctypes"
   ]
  },
  {
   "cell_type": "code",
   "execution_count": 193,
   "id": "ca37a7c4-2dbf-4d52-8ecb-58e8098388c2",
   "metadata": {},
   "outputs": [],
   "source": [
    "class List:\n",
    "    # ===========================  Magic Methods  ===============================\n",
    "    def __init__(self):\n",
    "        self.size = 1\n",
    "        self.n = 0\n",
    "        # create a C Type Array with size = self.size\n",
    "        self.A = self.__make_array(self.size)\n",
    "\n",
    "    def __len__(self):\n",
    "        return self.n\n",
    "    def __str__(self):\n",
    "        result = ''\n",
    "        for i in range(self.n-1):\n",
    "            result += str(self.A[i])+','\n",
    "        result += str(self.A[self.n-1])\n",
    "        return f'[{result}]'\n",
    "        \n",
    "\n",
    "    def __delitem__(self,index):\n",
    "        if self.n-1==0:\n",
    "            raise Exception(\"ValueError - List is empty\")\n",
    "        if 0<=index<self.n:\n",
    "            for i in range(index,self.n-1):\n",
    "                self.A[i] = self.A[i+1]\n",
    "            self.n -= 1\n",
    "        else:\n",
    "            raise Exception(\"IndexError - Index out of range\")\n",
    "    def __getitem__(self,index):\n",
    "        if 0<=index<self.size:\n",
    "            return self.A[index]\n",
    "        raise Exception(\"IndexError - Index out of range\")\n",
    "    # ===========================  Magic Methods  ===============================\n",
    "\n",
    "    # ===========================  Private Methods  ===============================\n",
    "    def __make_array(self,size):\n",
    "        # this creates a C type array (which is static & referential) with size capacity \n",
    "        return (size*ctypes.py_object)()\n",
    "\n",
    "            \n",
    "    def __resize(self,new_size):\n",
    "        # create a new array with new capacity\n",
    "        B = self.__make_array(new_size)\n",
    "        self.size = new_size\n",
    "        for i in range(self.n):\n",
    "            B[i] = self.A[i]\n",
    "        # reassign A\n",
    "        self.A = B\n",
    "    # ===========================  Private Methods  ===============================\n",
    "    \n",
    "    # ===========================  Public Methods  ===============================\n",
    "    def append(self,item):\n",
    "        if self.n == self.size:\n",
    "            # resize\n",
    "            self.__resize(self.size*2)\n",
    "        # append\n",
    "        self.A[self.n] = item\n",
    "        self.n += 1\n",
    "    def pop(self):\n",
    "        if self.n==0:\n",
    "            raise Exception(\"IndexError - List is empty\")\n",
    "        print(self.A[self.n-1])\n",
    "        self.n -= 1\n",
    "    def clear(self):\n",
    "        self.__init__()\n",
    "    def find(self,element):\n",
    "        for i in range(self.n):\n",
    "            if self.A[i]==element:\n",
    "                return i\n",
    "        raise Exception(\"ValueError - Item not found\")\n",
    "    def insert(self,index,element):\n",
    "        if self.n==self.size:\n",
    "            self.__resize(self.size*2)\n",
    "        for i in range(self.n,index,-1):\n",
    "            self.A[i] = self.A[i-1]\n",
    "        self.A[index] = element\n",
    "        self.n += 1\n",
    "    def remove(self,element):\n",
    "        for i in range(self.n):\n",
    "            if self.A[i]==element:\n",
    "                for j in range(i,self.n-1):\n",
    "                    self.A[j] = self.A[j+1]\n",
    "                self.n -= 1\n",
    "                return\n",
    "        raise Exception(\"ValueError - Item not found\")\n",
    "    # ===========================  Public Methods  ==============================="
   ]
  },
  {
   "cell_type": "code",
   "execution_count": 181,
   "id": "1613a0b0-9e1b-4a60-b5dc-3aa164eedd74",
   "metadata": {},
   "outputs": [],
   "source": [
    "L = List()\n",
    "L.append(\"hello\")\n",
    "L.append(\"he\")\n",
    "L.append(2.3)\n",
    "L.append(\"h\")\n",
    "L.append(10)"
   ]
  },
  {
   "cell_type": "code",
   "execution_count": 182,
   "id": "f3aa8182-d664-43de-b62c-d7bc17a58e3d",
   "metadata": {},
   "outputs": [
    {
     "data": {
      "text/plain": [
       "5"
      ]
     },
     "execution_count": 182,
     "metadata": {},
     "output_type": "execute_result"
    }
   ],
   "source": [
    "len(L)"
   ]
  },
  {
   "cell_type": "code",
   "execution_count": 183,
   "id": "363a248c-b82a-4f79-98d3-1c1447d22493",
   "metadata": {},
   "outputs": [
    {
     "name": "stdout",
     "output_type": "stream",
     "text": [
      "[hello,he,2.3,h,10]\n"
     ]
    }
   ],
   "source": [
    "print(L)"
   ]
  },
  {
   "cell_type": "code",
   "execution_count": 184,
   "id": "82e4b97e-0b94-468a-915b-55ec3cf772b6",
   "metadata": {},
   "outputs": [
    {
     "data": {
      "text/plain": [
       "'hello'"
      ]
     },
     "execution_count": 184,
     "metadata": {},
     "output_type": "execute_result"
    }
   ],
   "source": [
    "L[0]"
   ]
  },
  {
   "cell_type": "code",
   "execution_count": 185,
   "id": "8b5ebf38-38a5-4c89-8d91-3f73d56ccb8c",
   "metadata": {},
   "outputs": [],
   "source": [
    "L.insert(1,10)"
   ]
  },
  {
   "cell_type": "code",
   "execution_count": 186,
   "id": "53af9ef9-79d1-4863-820d-60a0c10f3f89",
   "metadata": {},
   "outputs": [
    {
     "name": "stdout",
     "output_type": "stream",
     "text": [
      "[hello,10,he,2.3,h,10]\n"
     ]
    }
   ],
   "source": [
    "print(L)"
   ]
  },
  {
   "cell_type": "code",
   "execution_count": 187,
   "id": "fa952b92-3948-48e0-9a08-18978aef3497",
   "metadata": {},
   "outputs": [
    {
     "name": "stdout",
     "output_type": "stream",
     "text": [
      "[hello,10,he,2.3,h,10]\n"
     ]
    }
   ],
   "source": [
    "print(L)"
   ]
  },
  {
   "cell_type": "code",
   "execution_count": 188,
   "id": "95d47760-5c5a-43af-8ccd-a773906976a5",
   "metadata": {},
   "outputs": [
    {
     "data": {
      "text/plain": [
       "6"
      ]
     },
     "execution_count": 188,
     "metadata": {},
     "output_type": "execute_result"
    }
   ],
   "source": [
    "len(L)"
   ]
  },
  {
   "cell_type": "code",
   "execution_count": 189,
   "id": "e400ffb9-0680-4ec1-8dce-747e3d4498a3",
   "metadata": {},
   "outputs": [],
   "source": [
    "del L[1]"
   ]
  },
  {
   "cell_type": "code",
   "execution_count": 190,
   "id": "3fb06cbe-4bf5-4d65-922c-adb9387ad97b",
   "metadata": {},
   "outputs": [
    {
     "name": "stdout",
     "output_type": "stream",
     "text": [
      "[hello,he,2.3,h,10]\n"
     ]
    }
   ],
   "source": [
    "print(L)"
   ]
  },
  {
   "cell_type": "code",
   "execution_count": 191,
   "id": "55364506-3e74-4a6b-a3e7-10bf2c2d3102",
   "metadata": {},
   "outputs": [
    {
     "name": "stdout",
     "output_type": "stream",
     "text": [
      "[hello,he,2.3,10]\n"
     ]
    }
   ],
   "source": [
    "L.remove('h')\n",
    "print(L)"
   ]
  }
 ],
 "metadata": {
  "kernelspec": {
   "display_name": "Python 3 (ipykernel)",
   "language": "python",
   "name": "python3"
  },
  "language_info": {
   "codemirror_mode": {
    "name": "ipython",
    "version": 3
   },
   "file_extension": ".py",
   "mimetype": "text/x-python",
   "name": "python",
   "nbconvert_exporter": "python",
   "pygments_lexer": "ipython3",
   "version": "3.12.0"
  }
 },
 "nbformat": 4,
 "nbformat_minor": 5
}
