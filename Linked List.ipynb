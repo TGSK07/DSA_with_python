{
 "cells": [
  {
   "cell_type": "markdown",
   "id": "a9ab3569-c136-40ba-99fd-5e4426feb5e1",
   "metadata": {},
   "source": [
    "## Creation of Linked List Methods :\n",
    "1. append (adding element at the end)\n",
    "2. insert_head (adding element at the front)\n",
    "3. insert (adding element at the middle of the list)\n",
    "4. clear (deleting all the element from the list)\n",
    "5. delete_head (deleting an element from the front)\n",
    "6. pop (deleting an element from the end)\n",
    "7. remove (deleting an element by value)\n",
    "8. search (return index of given element)\n",
    "\n",
    "## Some Magic Methods for the Linked List :\n",
    "1. __init__ (for initialize during creation of object)\n",
    "2. __len__ (for return the length of the Linked List)\n",
    "3. __str__ (for print the Linked List)\n",
    "4. __getitem__ (for slicing in Linked List)"
   ]
  },
  {
   "cell_type": "code",
   "execution_count": 5,
   "id": "596989be-0a81-4b1d-823b-3fb1719f012f",
   "metadata": {},
   "outputs": [],
   "source": [
    "# Creation of Node class\n",
    "class Node:\n",
    "    def __init__(self,data):\n",
    "        self.data = data\n",
    "        self.next = None"
   ]
  },
  {
   "cell_type": "code",
   "execution_count": 305,
   "id": "67734245-ba3d-4daa-b7da-e6bd59e0201f",
   "metadata": {},
   "outputs": [],
   "source": [
    "class LinkedList:\n",
    "    def __init__(self):\n",
    "        self.head = None # Empty Linked List\n",
    "        self.__n = 0  # Length of linked list\n",
    "    def __len__(self):\n",
    "        return self.__n\n",
    "    def __str__(self):\n",
    "        if self.head==None:\n",
    "            return '->'\n",
    "        temp = self.head\n",
    "        output = ''\n",
    "        while temp.next!=None:\n",
    "            output += str(temp.data)+' -> '\n",
    "            temp = temp.next\n",
    "        output += str(temp.data)\n",
    "        return output\n",
    "    def __getitem__(self,index):\n",
    "        temp = self.head\n",
    "        count = 0\n",
    "        if 0<=index<self.__n:\n",
    "            while temp!=None:\n",
    "                if count==index:\n",
    "                    return temp.data\n",
    "                temp = temp.next\n",
    "                count += 1\n",
    "        raise Exception(\"IndexError - Index out of range\")\n",
    "                \n",
    "    def append(self,element):\n",
    "        if self.head==None: # if list is empty\n",
    "            self.head = Node(element)\n",
    "            self.__n += 1 # increasing the length of linked list\n",
    "            return\n",
    "        temp = self.head\n",
    "        while temp.next!=None:\n",
    "            temp = temp.next\n",
    "        new_node = Node(element)\n",
    "        temp.next = new_node\n",
    "        self.__n += 1 # increasing the length of linked list\n",
    "    def insert_head(self,element):\n",
    "        new_node = Node(element)\n",
    "        new_node.next = self.head\n",
    "        self.head = new_node\n",
    "        self.__n += 1 # increasing the length of linked list\n",
    "    def insert(self,index,element):\n",
    "        if 0<=index<self.__n:\n",
    "            temp = self.head\n",
    "            count = 0\n",
    "            while count<index-1:\n",
    "                temp = temp.next\n",
    "                count += 1\n",
    "            new_node = Node(element)\n",
    "            new_node.next = temp.next\n",
    "            temp.next = new_node\n",
    "            self.__n += 1 # increasing the length of linked list\n",
    "        else:\n",
    "            raise Exception(\"IndexError - Index out of range\")\n",
    "    def search(self,element):\n",
    "        temp = self.head\n",
    "        index = 0\n",
    "        while temp!=None:\n",
    "            if temp.data == element:\n",
    "                return index\n",
    "            temp = temp.next\n",
    "            index += 1\n",
    "        return -1\n",
    "    def clear(self):\n",
    "            self.__init__()\n",
    "    def pop(self):\n",
    "        temp = self.head\n",
    "        while temp.next.next!=None:\n",
    "            temp = temp.next\n",
    "        temp.next = None\n",
    "        self.__n -= 1 # decreasing the length of linked list\n",
    "    def delete_head(self):\n",
    "        self.head = self.head.next\n",
    "        self.__n -= 1 # decreasing the length of linked list\n",
    "    def remove(self,element):\n",
    "        temp = self.head\n",
    "        prev = None\n",
    "        count = 0\n",
    "        while 0<=count<self.__n:\n",
    "            if temp.data==element:\n",
    "                prev.next = temp.next\n",
    "                self.__n -= 1 # decreasing the length of linked list\n",
    "                return\n",
    "            prev = temp\n",
    "            temp = temp.next\n",
    "            count += 1\n",
    "        print(\"Not Found\")"
   ]
  },
  {
   "cell_type": "markdown",
   "id": "63777285-fd89-4c6c-8e66-6fad02627f34",
   "metadata": {},
   "source": [
    "# OUTPUTS"
   ]
  },
  {
   "cell_type": "code",
   "execution_count": 215,
   "id": "cb6733ac-1ea4-4aa4-86db-e19d67bf35bf",
   "metadata": {},
   "outputs": [],
   "source": [
    "L = LinkedList()"
   ]
  },
  {
   "cell_type": "code",
   "execution_count": 216,
   "id": "6ad487d1-3bcb-4531-a6a8-dabdf17e545f",
   "metadata": {},
   "outputs": [
    {
     "data": {
      "text/plain": [
       "0"
      ]
     },
     "execution_count": 216,
     "metadata": {},
     "output_type": "execute_result"
    }
   ],
   "source": [
    "len(L) "
   ]
  },
  {
   "cell_type": "code",
   "execution_count": 299,
   "id": "a9633aaa-adbb-4599-9a3d-f1d877afa580",
   "metadata": {},
   "outputs": [
    {
     "data": {
      "text/plain": [
       "6"
      ]
     },
     "execution_count": 299,
     "metadata": {},
     "output_type": "execute_result"
    }
   ],
   "source": [
    "L.insert_head(3) \n",
    "L.insert_head(7)\n",
    "L.insert_head(6)\n",
    "L.insert_head(5)\n",
    "L.insert_head(1)\n",
    "L.insert_head(3)\n",
    "len(L)"
   ]
  },
  {
   "cell_type": "code",
   "execution_count": 218,
   "id": "856e2651-559b-4b22-a678-3eb130702b91",
   "metadata": {},
   "outputs": [
    {
     "data": {
      "text/plain": [
       "6"
      ]
     },
     "execution_count": 218,
     "metadata": {},
     "output_type": "execute_result"
    }
   ],
   "source": [
    "len(L)"
   ]
  },
  {
   "cell_type": "code",
   "execution_count": 219,
   "id": "4cd51848-84c0-4599-a088-77200a9aac7a",
   "metadata": {},
   "outputs": [
    {
     "name": "stdout",
     "output_type": "stream",
     "text": [
      "3 -> 1 -> 5 -> 6 -> 7 -> 3\n"
     ]
    }
   ],
   "source": [
    "print(L)"
   ]
  },
  {
   "cell_type": "code",
   "execution_count": 220,
   "id": "d9e12256-f551-4e47-a149-a9cc78c1a03b",
   "metadata": {},
   "outputs": [
    {
     "data": {
      "text/plain": [
       "5"
      ]
     },
     "execution_count": 220,
     "metadata": {},
     "output_type": "execute_result"
    }
   ],
   "source": [
    "L[2]"
   ]
  },
  {
   "cell_type": "code",
   "execution_count": 221,
   "id": "57996765-7cbd-4d7f-8128-5ecaf3261373",
   "metadata": {},
   "outputs": [
    {
     "data": {
      "text/plain": [
       "8"
      ]
     },
     "execution_count": 221,
     "metadata": {},
     "output_type": "execute_result"
    }
   ],
   "source": [
    "L.append(1)\n",
    "L.append(22)\n",
    "len(L)"
   ]
  },
  {
   "cell_type": "code",
   "execution_count": 222,
   "id": "10778f8e-b560-4d07-9332-e7d11f24907b",
   "metadata": {},
   "outputs": [
    {
     "data": {
      "text/plain": [
       "10"
      ]
     },
     "execution_count": 222,
     "metadata": {},
     "output_type": "execute_result"
    }
   ],
   "source": [
    "L.insert(3,33)\n",
    "L.insert(6,44)\n",
    "len(L)"
   ]
  },
  {
   "cell_type": "code",
   "execution_count": 223,
   "id": "30b25e90-be3e-4607-baad-29c712f9e78e",
   "metadata": {},
   "outputs": [
    {
     "name": "stdout",
     "output_type": "stream",
     "text": [
      "3 -> 1 -> 5 -> 33 -> 6 -> 7 -> 44 -> 3 -> 1 -> 22\n"
     ]
    }
   ],
   "source": [
    "print(L)"
   ]
  },
  {
   "cell_type": "code",
   "execution_count": 224,
   "id": "8ca65b62-88ba-402a-ba2c-dec5daddc580",
   "metadata": {},
   "outputs": [
    {
     "data": {
      "text/plain": [
       "9"
      ]
     },
     "execution_count": 224,
     "metadata": {},
     "output_type": "execute_result"
    }
   ],
   "source": [
    "L.search(22)"
   ]
  },
  {
   "cell_type": "code",
   "execution_count": 225,
   "id": "7c6b6c23-8d48-42b2-ba29-336975ea2224",
   "metadata": {},
   "outputs": [
    {
     "name": "stdout",
     "output_type": "stream",
     "text": [
      "3 -> 1 -> 5 -> 33 -> 6 -> 7 -> 44 -> 3 -> 1\n"
     ]
    }
   ],
   "source": [
    "L.pop()\n",
    "print(L)"
   ]
  },
  {
   "cell_type": "code",
   "execution_count": 226,
   "id": "13812d13-b953-4e1a-a573-099c4e8c4610",
   "metadata": {},
   "outputs": [
    {
     "name": "stdout",
     "output_type": "stream",
     "text": [
      "1 -> 5 -> 33 -> 6 -> 7 -> 44 -> 3 -> 1\n"
     ]
    }
   ],
   "source": [
    "L.delete_head()\n",
    "print(L)"
   ]
  },
  {
   "cell_type": "code",
   "execution_count": 227,
   "id": "5cf22d1b-fdf4-4b33-860e-89f71dc71eab",
   "metadata": {},
   "outputs": [
    {
     "name": "stdout",
     "output_type": "stream",
     "text": [
      "1 -> 5 -> 6 -> 7 -> 44 -> 3 -> 1\n"
     ]
    }
   ],
   "source": [
    "L.remove(33)\n",
    "print(L)"
   ]
  },
  {
   "cell_type": "code",
   "execution_count": 298,
   "id": "32d93a9f-b1a0-4a86-94ed-25f47ab130a9",
   "metadata": {},
   "outputs": [
    {
     "name": "stdout",
     "output_type": "stream",
     "text": [
      "0\n",
      "->\n"
     ]
    }
   ],
   "source": [
    "L.clear()\n",
    "print(len(L))\n",
    "print(L)"
   ]
  },
  {
   "cell_type": "markdown",
   "id": "3ee7d8c5-a3a5-401a-b224-39b3cf34f146",
   "metadata": {},
   "source": [
    "# QUESTIONS "
   ]
  },
  {
   "cell_type": "code",
   "execution_count": 289,
   "id": "67df85e5-bc17-4688-91ad-6e7782203ee4",
   "metadata": {},
   "outputs": [
    {
     "name": "stdout",
     "output_type": "stream",
     "text": [
      "6 -> 7 -> 3\n"
     ]
    }
   ],
   "source": [
    "l = LinkedList()\n",
    "l.insert_head(3) \n",
    "l.insert_head(7)\n",
    "l.insert_head(6)\n",
    "print(l)"
   ]
  },
  {
   "cell_type": "markdown",
   "id": "ab90a705-95c4-4ad6-ab95-63df1d7ade2e",
   "metadata": {},
   "source": [
    "1. Write a Python program to find the maximum value in a linked list and replace it with a given value."
   ]
  },
  {
   "cell_type": "code",
   "execution_count": 290,
   "id": "5736dca7-376a-4872-a690-8cf5b1856a66",
   "metadata": {},
   "outputs": [
    {
     "name": "stdout",
     "output_type": "stream",
     "text": [
      "6 -> 8 -> 3\n"
     ]
    }
   ],
   "source": [
    "def replace_max_with(head,element):\n",
    "    if head==None:\n",
    "        raise Exception(\"Empty List\")\n",
    "    max = head.data\n",
    "    temp = head\n",
    "    while temp!=None:\n",
    "        if max<temp.data:\n",
    "            max = temp.data\n",
    "        temp = temp.next\n",
    "    temp = head\n",
    "    while temp!=None:\n",
    "        if max==temp.data:\n",
    "            temp.data = element\n",
    "        temp = temp.next\n",
    "\n",
    "replace_max_with(l.head,8)\n",
    "print(l)"
   ]
  },
  {
   "cell_type": "markdown",
   "id": "a2076e1d-f002-4560-8204-22bf3f99af5c",
   "metadata": {},
   "source": [
    "2. Given a linked list containing whole numbers, write a python function which finds and return the sum of all elements at the odd position in the given linked list."
   ]
  },
  {
   "cell_type": "code",
   "execution_count": 293,
   "id": "fed4c1ca-01f3-483c-9b05-5033009b3d24",
   "metadata": {},
   "outputs": [
    {
     "name": "stdout",
     "output_type": "stream",
     "text": [
      "9\n"
     ]
    }
   ],
   "source": [
    "def oddSum(l):\n",
    "    if l.head==None:\n",
    "        return 'Empty List'\n",
    "    temp = l.head\n",
    "    oddsum = 0\n",
    "    count = 0\n",
    "    while temp!=None:\n",
    "        if count%2==0:\n",
    "            oddsum += temp.data\n",
    "        temp = temp.next\n",
    "        count += 1\n",
    "    return oddsum\n",
    "print(oddSum(l))"
   ]
  },
  {
   "cell_type": "markdown",
   "id": "9d2669f1-f587-4bf2-bc0d-2fa00e50d55e",
   "metadata": {},
   "source": [
    "3. What is the output of following funtion when head node of the following linked list is passed as input?\n",
    "   1 -> 2 -> 3 -> 4 -> 5\n"
   ]
  },
  {
   "cell_type": "raw",
   "id": "deaef508-25e9-4116-8637-3503184af31b",
   "metadata": {},
   "source": [
    "def fun(head):\n",
    "    if head==None:\n",
    "        return\n",
    "    if head.next.next!=None:\n",
    "        print(head.data,\"\",end='')\n",
    "        fun(head.next)\n",
    "    print(head.data,\"\",end='')"
   ]
  },
  {
   "cell_type": "markdown",
   "id": "307a1250-2a40-4962-b001-e085aad2603e",
   "metadata": {},
   "source": [
    "### Ans: 1 2 3 4 3 2 1 "
   ]
  },
  {
   "cell_type": "markdown",
   "id": "591a4ea1-86d0-4d63-a855-36d3ef3ae350",
   "metadata": {},
   "source": [
    "4. Consider the input_linked_list below: 1->4->9->16\n",
    "What will be the value of the element in the input_linked_list after the function fun() is invoked by passing the head of the input_linked_list as an argument?"
   ]
  },
  {
   "cell_type": "raw",
   "id": "cc36fb57-6d02-4308-87af-c5a574b406d4",
   "metadata": {},
   "source": [
    "def fun(head):\n",
    "    next_node = head.next\n",
    "    while head!=None and next_node!=None:\n",
    "        head.data += next_node.data\n",
    "        head = head.next\n",
    "        next_node = head.next\n",
    "        if next_node!=None:\n",
    "            head.data += next_node.data \n"
   ]
  },
  {
   "cell_type": "markdown",
   "id": "31df8ec2-8d16-4f62-aa1c-c577fd75e605",
   "metadata": {},
   "source": [
    "### Ans: 5 22 41 16"
   ]
  },
  {
   "cell_type": "markdown",
   "id": "9cd8fd10-34dc-4e21-8ff5-0b7363fcb44d",
   "metadata": {},
   "source": [
    "5. Write a python program to reverse a linked list containing integer data."
   ]
  },
  {
   "cell_type": "markdown",
   "id": "4c6f3ad0-b700-4e72-9ce7-36558e53721a",
   "metadata": {},
   "source": [
    "#### Ans:"
   ]
  },
  {
   "cell_type": "raw",
   "id": "ef5c8963-0ee2-458b-b707-ffee58eb0ca3",
   "metadata": {},
   "source": [
    "def reverse_list(head):\n",
    "    if head==None:\n",
    "        return\n",
    "    print(head.data,end=' ')\n",
    "    reverse_list(head.next)"
   ]
  },
  {
   "cell_type": "code",
   "execution_count": null,
   "id": "dc124dd8-0ae8-4c41-9805-2e2e97f960e4",
   "metadata": {},
   "outputs": [],
   "source": []
  }
 ],
 "metadata": {
  "kernelspec": {
   "display_name": "Python 3 (ipykernel)",
   "language": "python",
   "name": "python3"
  },
  "language_info": {
   "codemirror_mode": {
    "name": "ipython",
    "version": 3
   },
   "file_extension": ".py",
   "mimetype": "text/x-python",
   "name": "python",
   "nbconvert_exporter": "python",
   "pygments_lexer": "ipython3",
   "version": "3.12.0"
  }
 },
 "nbformat": 4,
 "nbformat_minor": 5
}
