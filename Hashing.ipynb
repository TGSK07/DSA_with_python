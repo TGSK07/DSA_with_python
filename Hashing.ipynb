{
 "cells": [
  {
   "cell_type": "markdown",
   "id": "b99ebafb-c4fb-4c22-83f3-fc819675e544",
   "metadata": {},
   "source": [
    "## Creation of Hashing Methods :\n",
    "1. put (adding value in hash using key)\n",
    "2. get (fetching value from hash using key)\n",
    "3. linear_rehash (generate new index if index from hash_function is occupied)\n",
    "4. hash_function (to generate the index for item)\n",
    "\n",
    "## Some Magic Methods for the Hashing :\n",
    "1. __init__ (for initialize during creation of object)\n",
    "2. __setitem__ (to set value using key)\n",
    "3. __str__ (to print the Hash)\n",
    "4. __getitem__ (to get value from key)"
   ]
  },
  {
   "cell_type": "code",
   "execution_count": 23,
   "id": "ee5f938a-8a3b-4c08-914d-6ae04b428baa",
   "metadata": {},
   "outputs": [],
   "source": [
    "class Hash:\n",
    "\n",
    "  def __init__(self, size):\n",
    "    self.size = size\n",
    "    self.slots = [None] * self.size\n",
    "    self.data = [None] * self.size\n",
    "\n",
    "  def __str__(self):\n",
    "\n",
    "    for i in range(len(self.slots)):\n",
    "      if self.slots[i] != None:\n",
    "        print(self.slots[i],\":\",self.data[i],end='\\n')\n",
    "\n",
    "    return \"\"\n",
    "\n",
    "  def __getitem__(self,key):\n",
    "    return self.get(key)\n",
    "\n",
    "  def __setitem__(self,key,value):\n",
    "    self.put(key,value)\n",
    "      \n",
    "  def put(self, key, value):\n",
    "    hash_value = self.hash_function(key)\n",
    "\n",
    "    if self.slots[hash_value] == None:\n",
    "      self.slots[hash_value] = key\n",
    "      self.data[hash_value] = value\n",
    "\n",
    "    else:\n",
    "\n",
    "      if self.slots[hash_value] == key:\n",
    "        self.data[hash_value] = value\n",
    "      else:\n",
    "        new_hash_value = self.linear_rehash(hash_value)\n",
    "\n",
    "        while self.slots[new_hash_value] != None and self.slots[new_hash_value] != key:\n",
    "          new_hash_value = self.linear_rehash(new_hash_value)\n",
    "\n",
    "        if self.slots[new_hash_value] == None:\n",
    "          self.slots[new_hash_value] = key\n",
    "          self.data[new_hash_value] = value\n",
    "        else:\n",
    "          self.data[new_hash_value] = value\n",
    "\n",
    "  def get(self, key):\n",
    "    start_position = self.hash_function(key)\n",
    "    current_position = start_position\n",
    "\n",
    "    while self.slots[current_position] != None:\n",
    "\n",
    "      if self.slots[current_position] == key:\n",
    "        return self.data[current_position]\n",
    "      \n",
    "      current_position = self.linear_rehash(current_position)\n",
    "\n",
    "      if current_position == start_position:\n",
    "        return \"Not Found\"\n",
    "\n",
    "    return \"None wala Not Found\"\n",
    "\n",
    "  \n",
    "  def linear_rehash(self, old_hash):\n",
    "    return (old_hash + 1) % self.size\n",
    "\n",
    "\n",
    "  def hash_function(self, key):\n",
    "\n",
    "    return abs(hash(key)) % self.size"
   ]
  },
  {
   "cell_type": "markdown",
   "id": "561051c6-8fcc-4925-8d55-f7574c8bb8ba",
   "metadata": {},
   "source": [
    "# OUTPUTS"
   ]
  },
  {
   "cell_type": "code",
   "execution_count": 24,
   "id": "965597f6-89a3-409f-96de-d820c538367a",
   "metadata": {},
   "outputs": [],
   "source": [
    "h = Hash(4)"
   ]
  },
  {
   "cell_type": "code",
   "execution_count": 30,
   "id": "c7b5ed45-1628-4256-b8c6-7bc779bec5fa",
   "metadata": {},
   "outputs": [],
   "source": [
    "h['sonu'] = 'kumar'\n",
    "h[7] = 7\n",
    "h['tg'] = 'sk'\n",
    "h.put('python',20)"
   ]
  },
  {
   "cell_type": "code",
   "execution_count": 31,
   "id": "50ab27b3-c914-4d99-9c7c-bc0e5f804124",
   "metadata": {},
   "outputs": [
    {
     "data": {
      "text/plain": [
       "7"
      ]
     },
     "execution_count": 31,
     "metadata": {},
     "output_type": "execute_result"
    }
   ],
   "source": [
    "h[7]"
   ]
  },
  {
   "cell_type": "code",
   "execution_count": 32,
   "id": "5e10894e-6957-41de-81b5-a4a41d323aee",
   "metadata": {},
   "outputs": [
    {
     "data": {
      "text/plain": [
       "'sk'"
      ]
     },
     "execution_count": 32,
     "metadata": {},
     "output_type": "execute_result"
    }
   ],
   "source": [
    "h['tg']"
   ]
  },
  {
   "cell_type": "code",
   "execution_count": 33,
   "id": "b347577f-7ccb-4ac9-952a-80d812034899",
   "metadata": {},
   "outputs": [
    {
     "name": "stdout",
     "output_type": "stream",
     "text": [
      "tg : sk\n",
      "sonu : kumar\n",
      "python : 20\n",
      "7 : 7\n",
      "\n"
     ]
    }
   ],
   "source": [
    "print(h)"
   ]
  },
  {
   "cell_type": "code",
   "execution_count": null,
   "id": "0991377a-66e4-4622-9941-652cf3799f58",
   "metadata": {},
   "outputs": [],
   "source": []
  }
 ],
 "metadata": {
  "kernelspec": {
   "display_name": "Python 3 (ipykernel)",
   "language": "python",
   "name": "python3"
  },
  "language_info": {
   "codemirror_mode": {
    "name": "ipython",
    "version": 3
   },
   "file_extension": ".py",
   "mimetype": "text/x-python",
   "name": "python",
   "nbconvert_exporter": "python",
   "pygments_lexer": "ipython3",
   "version": "3.12.0"
  }
 },
 "nbformat": 4,
 "nbformat_minor": 5
}
