{
 "cells": [
  {
   "cell_type": "markdown",
   "id": "45d9aec5-aed8-4444-8dc4-766ffb2c7ba9",
   "metadata": {},
   "source": [
    "# Creation of Stack Methods Using Linked List :\n",
    "1. push (adding an element at top)\n",
    "2. pop (delete an element from top)\n",
    "3. traverse (print the element of stack)\n",
    "4. isEmpty (check if stack is empty or not)\n",
    "5. peek (return the top element from stack)\n",
    "\n",
    "# Some Magic Methods for the Linked List :\n",
    "1. __init__ (for initialize during creation of object)\n",
    "2. __len__ (for return the length of the Linked List)"
   ]
  },
  {
   "cell_type": "code",
   "execution_count": 1,
   "id": "991b9c7e-a8ed-416f-9b97-931a14d2fe28",
   "metadata": {},
   "outputs": [],
   "source": [
    "# Creation of Node class\n",
    "class Node:\n",
    "    def __init__(self,data):\n",
    "        self.data = data\n",
    "        self.next = None"
   ]
  },
  {
   "cell_type": "code",
   "execution_count": 147,
   "id": "d7a936a9-94fa-4bf1-a89e-93d2ec136d48",
   "metadata": {},
   "outputs": [],
   "source": [
    "class stack:\n",
    "    def __init__(self):\n",
    "        self.__top = None\n",
    "        self.__size = 0\n",
    "    def __len__(self):\n",
    "        return self.__size\n",
    "    def push(self,value):\n",
    "        new_node = Node(value)\n",
    "        new_node.next = self.__top\n",
    "        self.__top = new_node\n",
    "        self.__size += 1\n",
    "    def pop(self):\n",
    "        if self.isEmpty():\n",
    "            return 'Stack is Empty'\n",
    "        data = self.__top.data\n",
    "        self.__top = self.__top.next\n",
    "        self.__size -= 1\n",
    "        return data\n",
    "    def peek(self):\n",
    "        if self.__top==None:\n",
    "            return 'Stack is Empty'\n",
    "        return self.__top.data\n",
    "    def isEmpty(self):\n",
    "        if self.__top==None:\n",
    "            return True\n",
    "        return False\n",
    "    def traverse(self):\n",
    "        temp = self.__top\n",
    "        while temp!=None:\n",
    "            print(temp.data)\n",
    "            temp = temp.next\n",
    "    "
   ]
  },
  {
   "cell_type": "markdown",
   "id": "e83050d9-1974-45e1-8212-cb311d80b359",
   "metadata": {},
   "source": [
    "# OUTPUTS"
   ]
  },
  {
   "cell_type": "code",
   "execution_count": 44,
   "id": "031123f6-4e96-4653-bf6f-b15ecfea66ab",
   "metadata": {},
   "outputs": [],
   "source": [
    "s = stack()"
   ]
  },
  {
   "cell_type": "code",
   "execution_count": 45,
   "id": "eb26b74f-48fd-4198-bcc2-3fdcef19a4c1",
   "metadata": {},
   "outputs": [],
   "source": [
    "s.push('HellOWorld')\n",
    "s.push(3)\n",
    "s.push(5)"
   ]
  },
  {
   "cell_type": "code",
   "execution_count": 46,
   "id": "8f275152-0136-4dac-858b-1ec70f76de02",
   "metadata": {},
   "outputs": [
    {
     "data": {
      "text/plain": [
       "5"
      ]
     },
     "execution_count": 46,
     "metadata": {},
     "output_type": "execute_result"
    }
   ],
   "source": [
    "s.pop()"
   ]
  },
  {
   "cell_type": "code",
   "execution_count": 47,
   "id": "2096082a-1074-48e2-98d5-436b09264a84",
   "metadata": {},
   "outputs": [
    {
     "data": {
      "text/plain": [
       "3"
      ]
     },
     "execution_count": 47,
     "metadata": {},
     "output_type": "execute_result"
    }
   ],
   "source": [
    "s.peek()"
   ]
  },
  {
   "cell_type": "code",
   "execution_count": 48,
   "id": "220a42dd-3e46-4cbe-aa87-19a6f187179c",
   "metadata": {},
   "outputs": [
    {
     "name": "stdout",
     "output_type": "stream",
     "text": [
      "3\n",
      "HellOWorld\n"
     ]
    }
   ],
   "source": [
    "s.traverse()"
   ]
  },
  {
   "cell_type": "code",
   "execution_count": 49,
   "id": "bc514fb3-74d3-4699-9175-dffcbb814ba9",
   "metadata": {},
   "outputs": [
    {
     "data": {
      "text/plain": [
       "False"
      ]
     },
     "execution_count": 49,
     "metadata": {},
     "output_type": "execute_result"
    }
   ],
   "source": [
    "s.isEmpty()"
   ]
  },
  {
   "cell_type": "code",
   "execution_count": 50,
   "id": "a02e6deb-5385-4c14-8ab4-00e182ad8960",
   "metadata": {},
   "outputs": [
    {
     "data": {
      "text/plain": [
       "2"
      ]
     },
     "execution_count": 50,
     "metadata": {},
     "output_type": "execute_result"
    }
   ],
   "source": [
    "len(s)"
   ]
  },
  {
   "cell_type": "markdown",
   "id": "f8ada9d7-d30d-4426-8032-d58b60169ee1",
   "metadata": {},
   "source": [
    "# QUESTIONS"
   ]
  },
  {
   "cell_type": "markdown",
   "id": "fad191b3-ecf6-4b5e-9bf7-b330f3d22009",
   "metadata": {},
   "source": [
    "#### 1. Write a function to reverse the string \"HELLO\"."
   ]
  },
  {
   "cell_type": "code",
   "execution_count": 96,
   "id": "7f0a80f1-b230-499f-93d7-11f553e26a50",
   "metadata": {},
   "outputs": [
    {
     "data": {
      "text/plain": [
       "'olleH'"
      ]
     },
     "execution_count": 96,
     "metadata": {},
     "output_type": "execute_result"
    }
   ],
   "source": [
    "def reverse_str(string):\n",
    "    s = stack()\n",
    "    for i in string:\n",
    "        s.push(i)\n",
    "    reverse_str = ''\n",
    "    while not s.isEmpty():\n",
    "        reverse_str += s.pop()\n",
    "    return reverse_str\n",
    "\n",
    "reverse_str('Hello')"
   ]
  },
  {
   "cell_type": "markdown",
   "id": "bef4149e-5705-4c65-9f20-38a3a5dc325e",
   "metadata": {},
   "source": [
    "#### 2. Write function of text editor which perform undo and redo operation."
   ]
  },
  {
   "cell_type": "code",
   "execution_count": 97,
   "id": "29c07b72-a6e6-4760-adfb-a01f91a66c11",
   "metadata": {},
   "outputs": [
    {
     "data": {
      "text/plain": [
       "'Son'"
      ]
     },
     "execution_count": 97,
     "metadata": {},
     "output_type": "execute_result"
    }
   ],
   "source": [
    "def text_editor(text,operation):\n",
    "    s = stack()\n",
    "    temp = stack()\n",
    "    for i in text:\n",
    "        s.push(i)\n",
    "    for i in operation:\n",
    "        if not s.isEmpty() and i=='u':\n",
    "            temp.push(s.pop())\n",
    "        elif not temp.isEmpty() and i=='r':\n",
    "            s.push(temp.pop())\n",
    "        else:\n",
    "            break\n",
    "    result = ''\n",
    "    while not s.isEmpty():\n",
    "        result += s.pop()\n",
    "    return result[::-1]\n",
    "(text_editor('Sonu','uuruurr'))"
   ]
  },
  {
   "cell_type": "markdown",
   "id": "fb6a0f87-bfad-442a-8962-8258f2ee01d3",
   "metadata": {},
   "source": [
    "#### 3. You are given n*n matrix. Write a function to identify the celebrity."
   ]
  },
  {
   "cell_type": "code",
   "execution_count": 98,
   "id": "3dbf2690-3d3a-44cf-9450-e9597417ab29",
   "metadata": {},
   "outputs": [
    {
     "name": "stdout",
     "output_type": "stream",
     "text": [
      "There is no Celebrity.\n",
      "2 is Celebrity.\n"
     ]
    }
   ],
   "source": [
    "def find_celeb(matrix,n):\n",
    "    s = stack()\n",
    "    for i in range(n):\n",
    "        s.push(i)\n",
    "    while len(s)>=2:\n",
    "        a = s.pop()\n",
    "        b = s.pop()\n",
    "        if matrix[a][b]==0:\n",
    "            # a is the celebrity\n",
    "            s.push(a)\n",
    "        else:\n",
    "            # b is the celebrity\n",
    "            s.push(b)\n",
    "    celeb = s.pop()\n",
    "    for i in range(n):\n",
    "        if matrix[i][celeb]!=1 and matrix[celeb][i]!=0:\n",
    "            return 'There is no Celebrity.'\n",
    "    return f'{celeb} is Celebrity.'\n",
    "matrix = [\n",
    "    [0,0,1,1],\n",
    "    [0,0,1,1],\n",
    "    [1,0,0,0],\n",
    "    [0,0,1,0]\n",
    "]\n",
    "print(find_celeb(matrix,4))\n",
    "matrix = [\n",
    "    [0,0,1,1],\n",
    "    [0,0,1,1],\n",
    "    [0,0,0,0],\n",
    "    [0,0,1,0]\n",
    "]\n",
    "print(find_celeb(matrix,4))"
   ]
  },
  {
   "cell_type": "markdown",
   "id": "f256f060-a72d-472e-8688-7577455d5059",
   "metadata": {},
   "source": [
    "#### 4. Write a function to check is the given expression is balanced or not."
   ]
  },
  {
   "cell_type": "code",
   "execution_count": 110,
   "id": "07b9f959-ac0f-42c9-a569-0b9fdd856126",
   "metadata": {},
   "outputs": [
    {
     "name": "stdout",
     "output_type": "stream",
     "text": [
      "False\n",
      "True\n"
     ]
    }
   ],
   "source": [
    "def isBalance(expression):\n",
    "    s = stack()\n",
    "    brackets = {'[':']','{':'}','(':')'}\n",
    "    for i in expression:\n",
    "        if i=='[' or i=='{' or i=='(':\n",
    "            s.push(i)\n",
    "        elif i==']' or i=='}' or i==')':\n",
    "            if brackets[s.peek()]==i:\n",
    "                s.pop()\n",
    "            else:\n",
    "                return False\n",
    "    return True\n",
    "exp = \"[{(a+b)+(c+d}]\"\n",
    "print(isBalance(exp))\n",
    "exp = \"[{(a+b)+(c+d)}]\"\n",
    "print(isBalance(exp))"
   ]
  },
  {
   "cell_type": "markdown",
   "id": "37b95e11-39b2-4055-b46c-2d1b0da32a64",
   "metadata": {},
   "source": [
    "# Creation of Stack Methods Using Array :\n",
    "1. push (adding an element at top)\n",
    "2. pop (delete an element from top)\n",
    "3. traverse (print the element of stack)\n",
    "4. peek (return the top element from stack)\n",
    "\n",
    "# Some Magic Methods for the Linked List :\n",
    "1. __init__ (for initialize during creation of object)\n",
    "2. __len__ (for return the length of the Linked List)"
   ]
  },
  {
   "cell_type": "code",
   "execution_count": 148,
   "id": "1c2d47df-83ac-4105-a93c-ac2fea3eea39",
   "metadata": {},
   "outputs": [],
   "source": [
    "class astack:\n",
    "    def __init__(self,size):\n",
    "        self.__size = size\n",
    "        self.__stack = [None] * self.__size\n",
    "        self.__top = -1\n",
    "        \n",
    "    def __len__(self):\n",
    "        return self.__top+1\n",
    "        \n",
    "    def push(self,value):\n",
    "        if self.__top == self.__size - 1:\n",
    "          return \"Overflow\"\n",
    "        else:\n",
    "          self.__top+=1\n",
    "          self.__stack[self.__top] = value\n",
    "            \n",
    "    def pop(self):\n",
    "        if self.__top == -1:\n",
    "          return \"Empty\"\n",
    "        else:\n",
    "          data = self.__stack[self.__top]\n",
    "          self.__top-=1\n",
    "          print(data)\n",
    "            \n",
    "    def peek(self):\n",
    "        if self.__top==-1:\n",
    "            return \"Empty\"\n",
    "        return self.__stack[self.__top]\n",
    "        \n",
    "    def traverse(self):\n",
    "        for i in range(self.__top,-1,-1):\n",
    "          print(self.__stack[i],end=' ')"
   ]
  },
  {
   "cell_type": "markdown",
   "id": "efd6eed7-8c56-46bf-811a-049bae533ec0",
   "metadata": {},
   "source": [
    "# OUTPUTS"
   ]
  },
  {
   "cell_type": "code",
   "execution_count": 138,
   "id": "ede20748-147d-4587-a5b2-12f0c8aeeb6f",
   "metadata": {},
   "outputs": [],
   "source": [
    "s = astack(4)"
   ]
  },
  {
   "cell_type": "code",
   "execution_count": 139,
   "id": "cf69a19a-46a8-4049-9b5b-251b5f2bca7d",
   "metadata": {},
   "outputs": [],
   "source": [
    "s.push(4)\n",
    "s.push(9)\n",
    "s.push(1)\n",
    "s.push(3)"
   ]
  },
  {
   "cell_type": "code",
   "execution_count": 145,
   "id": "62077395-d110-4141-a1e0-321b296fdd7b",
   "metadata": {},
   "outputs": [
    {
     "data": {
      "text/plain": [
       "3"
      ]
     },
     "execution_count": 145,
     "metadata": {},
     "output_type": "execute_result"
    }
   ],
   "source": [
    "len(s)"
   ]
  },
  {
   "cell_type": "code",
   "execution_count": 141,
   "id": "7f2be5d8-92de-4d49-9041-46d7f2ede177",
   "metadata": {},
   "outputs": [
    {
     "name": "stdout",
     "output_type": "stream",
     "text": [
      "3 1 9 4 "
     ]
    }
   ],
   "source": [
    "s.traverse()"
   ]
  },
  {
   "cell_type": "code",
   "execution_count": 142,
   "id": "29afd3d3-2359-48ec-880c-e72129efe451",
   "metadata": {},
   "outputs": [
    {
     "data": {
      "text/plain": [
       "3"
      ]
     },
     "execution_count": 142,
     "metadata": {},
     "output_type": "execute_result"
    }
   ],
   "source": [
    "s.peek()"
   ]
  },
  {
   "cell_type": "code",
   "execution_count": 143,
   "id": "e5f4119b-6e1d-434c-8419-351ec033621b",
   "metadata": {},
   "outputs": [
    {
     "name": "stdout",
     "output_type": "stream",
     "text": [
      "3\n"
     ]
    }
   ],
   "source": [
    "s.pop()"
   ]
  },
  {
   "cell_type": "code",
   "execution_count": 144,
   "id": "a890b5e0-a2b8-4424-8220-d413a23b7a6e",
   "metadata": {},
   "outputs": [
    {
     "name": "stdout",
     "output_type": "stream",
     "text": [
      "1 9 4 "
     ]
    }
   ],
   "source": [
    "s.traverse()"
   ]
  },
  {
   "cell_type": "code",
   "execution_count": null,
   "id": "4cf0d2d7-46a4-47cf-98bd-e23ae570fce9",
   "metadata": {},
   "outputs": [],
   "source": []
  }
 ],
 "metadata": {
  "kernelspec": {
   "display_name": "Python 3 (ipykernel)",
   "language": "python",
   "name": "python3"
  },
  "language_info": {
   "codemirror_mode": {
    "name": "ipython",
    "version": 3
   },
   "file_extension": ".py",
   "mimetype": "text/x-python",
   "name": "python",
   "nbconvert_exporter": "python",
   "pygments_lexer": "ipython3",
   "version": "3.12.0"
  }
 },
 "nbformat": 4,
 "nbformat_minor": 5
}
