{
 "cells": [
  {
   "cell_type": "code",
   "execution_count": 1,
   "id": "73ba19a4-5995-4709-99d4-2630a7ffa7ba",
   "metadata": {},
   "outputs": [],
   "source": [
    "class Node:\n",
    "    def __init__(self,value):\n",
    "        self.data = value\n",
    "        self.next = None"
   ]
  },
  {
   "cell_type": "code",
   "execution_count": 5,
   "id": "86b12b92-e6ad-44c6-8395-6fd1c9737c71",
   "metadata": {},
   "outputs": [],
   "source": [
    "class Queue:\n",
    "\n",
    "  def __init__(self):\n",
    "    self.front = None\n",
    "    self.rear = None\n",
    "\n",
    "  def enqueue(self,value):\n",
    "\n",
    "    new_node = Node(value)\n",
    "\n",
    "    if self.front == None:\n",
    "      self.front = new_node\n",
    "      self.rear = new_node\n",
    "\n",
    "    else:\n",
    "      self.rear.next = new_node\n",
    "      self.rear = new_node\n",
    "\n",
    "  def dequeue(self):\n",
    "\n",
    "    if self.front == None:\n",
    "      return \"Queue empty\"\n",
    "    else:\n",
    "      data = self.front.data\n",
    "      self.front = self.front.next\n",
    "      return data\n",
    "  def is_empty(self):\n",
    "    return self.front == None\n",
    "\n",
    "  def front_item(self):\n",
    "    if (not self.is_empty()):\n",
    "      return self.front.data\n",
    "    else:\n",
    "      return \"Empty queue\"\n",
    "\n",
    "  def rear_item(self):\n",
    "    if (not self.is_empty()):\n",
    "      return self.rear.data\n",
    "    else:\n",
    "      return \"Empty queue\"\n",
    "    \n",
    "\n",
    "  def traverse(self):\n",
    "\n",
    "    temp = self.front\n",
    "\n",
    "    while temp is not None:\n",
    "      print(temp.data,end=' ')\n",
    "      temp = temp.next"
   ]
  },
  {
   "cell_type": "markdown",
   "id": "d0403746-1197-494e-9e59-439bae93a964",
   "metadata": {},
   "source": [
    "# OUTPUTS"
   ]
  },
  {
   "cell_type": "code",
   "execution_count": 14,
   "id": "180cbbc2-4cce-4cee-8564-4df3b2008213",
   "metadata": {},
   "outputs": [],
   "source": [
    "q = Queue()"
   ]
  },
  {
   "cell_type": "code",
   "execution_count": 15,
   "id": "15bfd474-6137-4ad7-99f8-d91f4cda9144",
   "metadata": {},
   "outputs": [],
   "source": [
    "q.enqueue(2)\n",
    "q.enqueue(12)\n",
    "q.enqueue(24)"
   ]
  },
  {
   "cell_type": "code",
   "execution_count": 18,
   "id": "450ccc7c-1a4f-4f87-99fc-2de676dc75c7",
   "metadata": {},
   "outputs": [
    {
     "name": "stdout",
     "output_type": "stream",
     "text": [
      "2 12 24 "
     ]
    }
   ],
   "source": [
    "q.traverse()"
   ]
  },
  {
   "cell_type": "code",
   "execution_count": 19,
   "id": "27b8c752-37ad-4299-8e2b-04b0d1896024",
   "metadata": {},
   "outputs": [
    {
     "data": {
      "text/plain": [
       "2"
      ]
     },
     "execution_count": 19,
     "metadata": {},
     "output_type": "execute_result"
    }
   ],
   "source": [
    "q.dequeue()"
   ]
  },
  {
   "cell_type": "code",
   "execution_count": 20,
   "id": "bcfed2ee-213c-476e-a1e6-7959fb8379fd",
   "metadata": {},
   "outputs": [
    {
     "name": "stdout",
     "output_type": "stream",
     "text": [
      "12 24 "
     ]
    }
   ],
   "source": [
    "q.traverse()"
   ]
  },
  {
   "cell_type": "code",
   "execution_count": 21,
   "id": "78f34742-e0f2-4ae3-a537-dfea1bd14f4f",
   "metadata": {},
   "outputs": [
    {
     "data": {
      "text/plain": [
       "12"
      ]
     },
     "execution_count": 21,
     "metadata": {},
     "output_type": "execute_result"
    }
   ],
   "source": [
    "q.front_item()"
   ]
  },
  {
   "cell_type": "code",
   "execution_count": 23,
   "id": "2e3dfa76-691e-4a51-bc52-2df4ee15c51c",
   "metadata": {},
   "outputs": [
    {
     "data": {
      "text/plain": [
       "24"
      ]
     },
     "execution_count": 23,
     "metadata": {},
     "output_type": "execute_result"
    }
   ],
   "source": [
    "q.rear_item()"
   ]
  },
  {
   "cell_type": "code",
   "execution_count": null,
   "id": "feaac484-97b6-4091-9a9c-e7009a0054ea",
   "metadata": {},
   "outputs": [],
   "source": []
  }
 ],
 "metadata": {
  "kernelspec": {
   "display_name": "Python 3 (ipykernel)",
   "language": "python",
   "name": "python3"
  },
  "language_info": {
   "codemirror_mode": {
    "name": "ipython",
    "version": 3
   },
   "file_extension": ".py",
   "mimetype": "text/x-python",
   "name": "python",
   "nbconvert_exporter": "python",
   "pygments_lexer": "ipython3",
   "version": "3.12.0"
  }
 },
 "nbformat": 4,
 "nbformat_minor": 5
}
